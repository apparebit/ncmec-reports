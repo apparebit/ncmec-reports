{
 "cells": [
  {
   "attachments": {},
   "cell_type": "markdown",
   "metadata": {},
   "source": [
    "# Visualizing CSAM Reports Per Country"
   ]
  },
  {
   "cell_type": "code",
   "execution_count": 1,
   "metadata": {},
   "outputs": [],
   "source": [
    "# Import numpy, pandas, and plotly: np, pd, go, px\n",
    "import numpy as np\n",
    "import pandas as pd\n",
    "import plotly.graph_objects as go\n",
    "import plotly.express as px"
   ]
  },
  {
   "attachments": {},
   "cell_type": "markdown",
   "metadata": {},
   "source": [
    "## 1. Reports Per Country\n",
    "\n",
    "Load the reports-per-country dataset and perform some sanity checks:"
   ]
  },
  {
   "cell_type": "code",
   "execution_count": 2,
   "metadata": {},
   "outputs": [
    {
     "name": "stdout",
     "output_type": "stream",
     "text": [
      "<class 'pandas.core.frame.DataFrame'>\n",
      "Int64Index: 243 entries, 0 to 242\n",
      "Data columns (total 3 columns):\n",
      " #   Column   Non-Null Count  Dtype \n",
      "---  ------   --------------  ----- \n",
      " 0   country  243 non-null    object\n",
      " 1   iso3     243 non-null    object\n",
      " 2   reports  243 non-null    int64 \n",
      "dtypes: int64(1), object(2)\n",
      "memory usage: 7.6+ KB\n"
     ]
    }
   ],
   "source": [
    "reports = pd.read_csv('reports.csv', thousands=',')\n",
    "reports = reports[reports['iso3'].notnull()]\n",
    "\n",
    "def count_reports_for(iso3):\n",
    "    result = reports.loc[reports['iso3'] == iso3]['reports']\n",
    "    assert len(result) == 1\n",
    "    return result.iloc[0]\n",
    "\n",
    "assert count_reports_for('AFG') == 283_116\n",
    "assert count_reports_for('TUV') == 25\n",
    "assert count_reports_for('YEM') == 243_340\n",
    "assert count_reports_for('CHN') == 7_644\n",
    "assert reports['iso3'].nunique() == len(reports)\n",
    "# This would fail without the thousands argument to read_csv:\n",
    "assert str(reports.dtypes['reports']) == 'int64'\n",
    "\n",
    "report_countries = set(reports['iso3'].values)\n",
    "reports.info()"
   ]
  },
  {
   "attachments": {},
   "cell_type": "markdown",
   "metadata": {},
   "source": [
    "## 2. Population Per Country\n",
    "\n",
    "Load the population-per-country dataset, perform some sanity checks, and\n",
    "determine for which countries we lack data."
   ]
  },
  {
   "cell_type": "code",
   "execution_count": 3,
   "metadata": {},
   "outputs": [
    {
     "name": "stdout",
     "output_type": "stream",
     "text": [
      "Population data is missing for ['ALA', 'ANT', 'ATA', 'BLM', 'BVT', 'CCK', 'CXR', 'IOT'] \n",
      "\n",
      "<class 'pandas.core.frame.DataFrame'>\n",
      "Int64Index: 237 entries, 258 to 57171\n",
      "Data columns (total 2 columns):\n",
      " #   Column      Non-Null Count  Dtype \n",
      "---  ------      --------------  ----- \n",
      " 0   iso3        237 non-null    object\n",
      " 1   population  237 non-null    int64 \n",
      "dtypes: int64(1), object(1)\n",
      "memory usage: 5.6+ KB\n"
     ]
    }
   ],
   "source": [
    "# Build on https://ourworldindata.org/grapher/population\n",
    "\n",
    "capita = pd.read_csv('population.csv')\n",
    "capita = capita[capita['iso3'].notnull() & (capita['year'] == 2021)]\n",
    "capita = capita[['iso3', 'population']]\n",
    "\n",
    "assert capita['iso3'].nunique() == len(capita)\n",
    "assert str(capita.dtypes['population']) == 'int64'\n",
    "\n",
    "capita_countries = set(capita['iso3'].values)\n",
    "missing_countries = report_countries.difference(capita_countries)\n",
    "print(f'Population data is missing for', sorted(missing_countries), '\\n')\n",
    "\n",
    "assert 'ATA' in missing_countries\n",
    "assert 'CCK' in missing_countries\n",
    "assert not 'XXK' in missing_countries\n",
    "\n",
    "capita.info()"
   ]
  },
  {
   "attachments": {},
   "cell_type": "markdown",
   "metadata": {},
   "source": [
    "### 2.1 Create Remedial Dataset By Googling Missing Values\n",
    "\n",
    "It's not reassuring that NCMEC's data contains an entry for the Netherlands\n",
    "Antilles (ANT) as well as Bonaire, Saint Eustatius and Saba (BES), Curaçao\n",
    "(CUW), and Sint Maarten (SXM), since the former was split into the latter three.\n",
    "Antarctica (ATA) may have a permanent population of zero but also has research\n",
    "stations. Finally, since Bouvet Island is uninhabited, it's unclear how CSAM can\n",
    "be hosted there."
   ]
  },
  {
   "cell_type": "code",
   "execution_count": 4,
   "metadata": {},
   "outputs": [
    {
     "name": "stdout",
     "output_type": "stream",
     "text": [
      "<class 'pandas.core.frame.DataFrame'>\n",
      "RangeIndex: 245 entries, 0 to 244\n",
      "Data columns (total 2 columns):\n",
      " #   Column      Non-Null Count  Dtype \n",
      "---  ------      --------------  ----- \n",
      " 0   iso3        245 non-null    object\n",
      " 1   population  245 non-null    int64 \n",
      "dtypes: int64(1), object(1)\n",
      "memory usage: 4.0+ KB\n"
     ]
    },
    {
     "data": {
      "text/plain": [
       "None"
      ]
     },
     "metadata": {},
     "output_type": "display_data"
    }
   ],
   "source": [
    "supplement = pd.DataFrame([\n",
    "    ['ALA', 29_789],\n",
    "    ['ANT', 0], # Netherlands Antilles was split into BES, CUW, SXM\n",
    "    ['ATA', 0],\n",
    "    ['BLM', 9_952],\n",
    "    ['BVT', 0],\n",
    "    ['CCK', 596],\n",
    "    ['CXR', 1_402],\n",
    "    ['IOT', 3_000],\n",
    "], columns=['iso3', 'population'])\n",
    "\n",
    "supplement_countries = set(supplement['iso3'].values)\n",
    "if missing_countries > supplement_countries:\n",
    "    raise Exception(f'Supplement lacks {missing_countries - supplement_countries}')\n",
    "\n",
    "capita = pd.concat([capita, supplement]).reset_index(drop=True)\n",
    "capita.info()"
   ]
  },
  {
   "attachments": {},
   "cell_type": "markdown",
   "metadata": {},
   "source": [
    "## 3. Reports Per Country Per Capita\n",
    "\n",
    "It's time to merge the two datasets into one and normalize the report counts by\n",
    "population size. We use a left outer join on the reports per country to add in\n",
    "the population size.\n",
    "\n",
    "Let's look at the entries with a small population size.\n"
   ]
  },
  {
   "cell_type": "code",
   "execution_count": 5,
   "metadata": {},
   "outputs": [
    {
     "data": {
      "text/html": [
       "<div>\n",
       "<style scoped>\n",
       "    .dataframe tbody tr th:only-of-type {\n",
       "        vertical-align: middle;\n",
       "    }\n",
       "\n",
       "    .dataframe tbody tr th {\n",
       "        vertical-align: top;\n",
       "    }\n",
       "\n",
       "    .dataframe thead th {\n",
       "        text-align: right;\n",
       "    }\n",
       "</style>\n",
       "<table border=\"1\" class=\"dataframe\">\n",
       "  <thead>\n",
       "    <tr style=\"text-align: right;\">\n",
       "      <th></th>\n",
       "      <th>country</th>\n",
       "      <th>iso3</th>\n",
       "      <th>reports</th>\n",
       "      <th>population</th>\n",
       "    </tr>\n",
       "  </thead>\n",
       "  <tbody>\n",
       "    <tr>\n",
       "      <th>8</th>\n",
       "      <td>Antarctica</td>\n",
       "      <td>ATA</td>\n",
       "      <td>4</td>\n",
       "      <td>0</td>\n",
       "    </tr>\n",
       "    <tr>\n",
       "      <th>29</th>\n",
       "      <td>Bouvet Island</td>\n",
       "      <td>BVT</td>\n",
       "      <td>1</td>\n",
       "      <td>0</td>\n",
       "    </tr>\n",
       "    <tr>\n",
       "      <th>47</th>\n",
       "      <td>Christmas Island</td>\n",
       "      <td>CXR</td>\n",
       "      <td>1</td>\n",
       "      <td>1402</td>\n",
       "    </tr>\n",
       "    <tr>\n",
       "      <th>48</th>\n",
       "      <td>Cocos (Keeling) Islands</td>\n",
       "      <td>CCK</td>\n",
       "      <td>168</td>\n",
       "      <td>596</td>\n",
       "    </tr>\n",
       "    <tr>\n",
       "      <th>153</th>\n",
       "      <td>Netherlands Antilles</td>\n",
       "      <td>ANT</td>\n",
       "      <td>2</td>\n",
       "      <td>0</td>\n",
       "    </tr>\n",
       "    <tr>\n",
       "      <th>159</th>\n",
       "      <td>Niue</td>\n",
       "      <td>NIU</td>\n",
       "      <td>1</td>\n",
       "      <td>1957</td>\n",
       "    </tr>\n",
       "    <tr>\n",
       "      <th>218</th>\n",
       "      <td>Tokelau</td>\n",
       "      <td>TKL</td>\n",
       "      <td>4</td>\n",
       "      <td>1869</td>\n",
       "    </tr>\n",
       "    <tr>\n",
       "      <th>235</th>\n",
       "      <td>Vatican City</td>\n",
       "      <td>VAT</td>\n",
       "      <td>1</td>\n",
       "      <td>812</td>\n",
       "    </tr>\n",
       "  </tbody>\n",
       "</table>\n",
       "</div>"
      ],
      "text/plain": [
       "                     country iso3  reports  population\n",
       "8                 Antarctica  ATA        4           0\n",
       "29             Bouvet Island  BVT        1           0\n",
       "47          Christmas Island  CXR        1        1402\n",
       "48   Cocos (Keeling) Islands  CCK      168         596\n",
       "153     Netherlands Antilles  ANT        2           0\n",
       "159                     Niue  NIU        1        1957\n",
       "218                  Tokelau  TKL        4        1869\n",
       "235             Vatican City  VAT        1         812"
      ]
     },
     "metadata": {},
     "output_type": "display_data"
    }
   ],
   "source": [
    "normalized = pd.merge(reports, capita, how='left', on='iso3')\n",
    "display(normalized[normalized['population'] < 2_000])\n"
   ]
  },
  {
   "cell_type": "markdown",
   "metadata": {},
   "source": [
    "\n",
    "\n",
    "\n",
    "After removing rows with a population size of 0 (see\n",
    "above), we add the new column for the RPC2, reports per country per capita\n",
    "\n",
    "And? Now that we have comparable per-country data, let's sort by RPC2 and print\n",
    "out the 20 worst offenders."
   ]
  },
  {
   "cell_type": "code",
   "execution_count": 6,
   "metadata": {},
   "outputs": [
    {
     "data": {
      "text/html": [
       "<div>\n",
       "<style scoped>\n",
       "    .dataframe tbody tr th:only-of-type {\n",
       "        vertical-align: middle;\n",
       "    }\n",
       "\n",
       "    .dataframe tbody tr th {\n",
       "        vertical-align: top;\n",
       "    }\n",
       "\n",
       "    .dataframe thead th {\n",
       "        text-align: right;\n",
       "    }\n",
       "</style>\n",
       "<table border=\"1\" class=\"dataframe\">\n",
       "  <thead>\n",
       "    <tr style=\"text-align: right;\">\n",
       "      <th></th>\n",
       "      <th>country</th>\n",
       "      <th>iso3</th>\n",
       "      <th>reports</th>\n",
       "      <th>population</th>\n",
       "      <th>rpc</th>\n",
       "    </tr>\n",
       "  </thead>\n",
       "  <tbody>\n",
       "    <tr>\n",
       "      <th>1</th>\n",
       "      <td>Cocos (Keeling) Islands</td>\n",
       "      <td>CCK</td>\n",
       "      <td>168</td>\n",
       "      <td>596</td>\n",
       "      <td>0.281879</td>\n",
       "    </tr>\n",
       "    <tr>\n",
       "      <th>2</th>\n",
       "      <td>Libya</td>\n",
       "      <td>LBY</td>\n",
       "      <td>270811</td>\n",
       "      <td>6735280</td>\n",
       "      <td>0.040208</td>\n",
       "    </tr>\n",
       "    <tr>\n",
       "      <th>3</th>\n",
       "      <td>United Arab Emirates</td>\n",
       "      <td>ARE</td>\n",
       "      <td>327820</td>\n",
       "      <td>9365149</td>\n",
       "      <td>0.035004</td>\n",
       "    </tr>\n",
       "    <tr>\n",
       "      <th>4</th>\n",
       "      <td>Iraq</td>\n",
       "      <td>IRQ</td>\n",
       "      <td>1220470</td>\n",
       "      <td>43533592</td>\n",
       "      <td>0.028035</td>\n",
       "    </tr>\n",
       "    <tr>\n",
       "      <th>5</th>\n",
       "      <td>Philippines</td>\n",
       "      <td>PHL</td>\n",
       "      <td>3188793</td>\n",
       "      <td>113880336</td>\n",
       "      <td>0.028001</td>\n",
       "    </tr>\n",
       "    <tr>\n",
       "      <th>6</th>\n",
       "      <td>Qatar</td>\n",
       "      <td>QAT</td>\n",
       "      <td>73536</td>\n",
       "      <td>2688239</td>\n",
       "      <td>0.027355</td>\n",
       "    </tr>\n",
       "    <tr>\n",
       "      <th>7</th>\n",
       "      <td>Algeria</td>\n",
       "      <td>DZA</td>\n",
       "      <td>1171653</td>\n",
       "      <td>44177964</td>\n",
       "      <td>0.026521</td>\n",
       "    </tr>\n",
       "    <tr>\n",
       "      <th>8</th>\n",
       "      <td>Cambodia</td>\n",
       "      <td>KHM</td>\n",
       "      <td>395793</td>\n",
       "      <td>16589031</td>\n",
       "      <td>0.023859</td>\n",
       "    </tr>\n",
       "    <tr>\n",
       "      <th>9</th>\n",
       "      <td>Bahrain</td>\n",
       "      <td>BHR</td>\n",
       "      <td>32346</td>\n",
       "      <td>1463266</td>\n",
       "      <td>0.022105</td>\n",
       "    </tr>\n",
       "    <tr>\n",
       "      <th>10</th>\n",
       "      <td>Belize</td>\n",
       "      <td>BLZ</td>\n",
       "      <td>8297</td>\n",
       "      <td>400037</td>\n",
       "      <td>0.020741</td>\n",
       "    </tr>\n",
       "    <tr>\n",
       "      <th>11</th>\n",
       "      <td>Saudi Arabia</td>\n",
       "      <td>SAU</td>\n",
       "      <td>708980</td>\n",
       "      <td>35950396</td>\n",
       "      <td>0.019721</td>\n",
       "    </tr>\n",
       "    <tr>\n",
       "      <th>12</th>\n",
       "      <td>Bhutan</td>\n",
       "      <td>BTN</td>\n",
       "      <td>14518</td>\n",
       "      <td>777500</td>\n",
       "      <td>0.018673</td>\n",
       "    </tr>\n",
       "    <tr>\n",
       "      <th>13</th>\n",
       "      <td>Kuwait</td>\n",
       "      <td>KWT</td>\n",
       "      <td>78803</td>\n",
       "      <td>4250111</td>\n",
       "      <td>0.018541</td>\n",
       "    </tr>\n",
       "    <tr>\n",
       "      <th>14</th>\n",
       "      <td>Maldives</td>\n",
       "      <td>MDV</td>\n",
       "      <td>9638</td>\n",
       "      <td>521469</td>\n",
       "      <td>0.018482</td>\n",
       "    </tr>\n",
       "    <tr>\n",
       "      <th>15</th>\n",
       "      <td>British Indian Ocean Territory</td>\n",
       "      <td>IOT</td>\n",
       "      <td>45</td>\n",
       "      <td>3000</td>\n",
       "      <td>0.015000</td>\n",
       "    </tr>\n",
       "    <tr>\n",
       "      <th>16</th>\n",
       "      <td>Oman</td>\n",
       "      <td>OMN</td>\n",
       "      <td>64156</td>\n",
       "      <td>4520474</td>\n",
       "      <td>0.014192</td>\n",
       "    </tr>\n",
       "    <tr>\n",
       "      <th>17</th>\n",
       "      <td>Monaco</td>\n",
       "      <td>MCO</td>\n",
       "      <td>494</td>\n",
       "      <td>36713</td>\n",
       "      <td>0.013456</td>\n",
       "    </tr>\n",
       "    <tr>\n",
       "      <th>18</th>\n",
       "      <td>Tunisia</td>\n",
       "      <td>TUN</td>\n",
       "      <td>164562</td>\n",
       "      <td>12262949</td>\n",
       "      <td>0.013419</td>\n",
       "    </tr>\n",
       "    <tr>\n",
       "      <th>19</th>\n",
       "      <td>Dominican Republic</td>\n",
       "      <td>DOM</td>\n",
       "      <td>144150</td>\n",
       "      <td>11117873</td>\n",
       "      <td>0.012966</td>\n",
       "    </tr>\n",
       "    <tr>\n",
       "      <th>20</th>\n",
       "      <td>Saint Pierre and Miquelon</td>\n",
       "      <td>SPM</td>\n",
       "      <td>62</td>\n",
       "      <td>5905</td>\n",
       "      <td>0.010500</td>\n",
       "    </tr>\n",
       "  </tbody>\n",
       "</table>\n",
       "</div>"
      ],
      "text/plain": [
       "                           country iso3  reports  population       rpc\n",
       "1          Cocos (Keeling) Islands  CCK      168         596  0.281879\n",
       "2                            Libya  LBY   270811     6735280  0.040208\n",
       "3             United Arab Emirates  ARE   327820     9365149  0.035004\n",
       "4                             Iraq  IRQ  1220470    43533592  0.028035\n",
       "5                      Philippines  PHL  3188793   113880336  0.028001\n",
       "6                            Qatar  QAT    73536     2688239  0.027355\n",
       "7                          Algeria  DZA  1171653    44177964  0.026521\n",
       "8                         Cambodia  KHM   395793    16589031  0.023859\n",
       "9                          Bahrain  BHR    32346     1463266  0.022105\n",
       "10                          Belize  BLZ     8297      400037  0.020741\n",
       "11                    Saudi Arabia  SAU   708980    35950396  0.019721\n",
       "12                          Bhutan  BTN    14518      777500  0.018673\n",
       "13                          Kuwait  KWT    78803     4250111  0.018541\n",
       "14                        Maldives  MDV     9638      521469  0.018482\n",
       "15  British Indian Ocean Territory  IOT       45        3000  0.015000\n",
       "16                            Oman  OMN    64156     4520474  0.014192\n",
       "17                          Monaco  MCO      494       36713  0.013456\n",
       "18                         Tunisia  TUN   164562    12262949  0.013419\n",
       "19              Dominican Republic  DOM   144150    11117873  0.012966\n",
       "20       Saint Pierre and Miquelon  SPM       62        5905  0.010500"
      ]
     },
     "metadata": {},
     "output_type": "display_data"
    },
    {
     "data": {
      "application/vnd.plotly.v1+json": {
       "config": {
        "plotlyServerURL": "https://plot.ly"
       },
       "data": [
        {
         "alignmentgroup": "True",
         "hovertemplate": "variable=rpc<br>index=%{x}<br>value=%{y}<extra></extra>",
         "legendgroup": "rpc",
         "marker": {
          "color": "#636efa",
          "pattern": {
           "shape": ""
          }
         },
         "name": "rpc",
         "offsetgroup": "rpc",
         "orientation": "v",
         "showlegend": true,
         "textposition": "auto",
         "type": "bar",
         "x": [
          1,
          2,
          3,
          4,
          5,
          6,
          7,
          8,
          9,
          10,
          11,
          12,
          13,
          14,
          15,
          16,
          17,
          18,
          19,
          20,
          21,
          22,
          23,
          24,
          25,
          26,
          27,
          28,
          29,
          30,
          31,
          32,
          33,
          34,
          35,
          36,
          37,
          38,
          39,
          40,
          41,
          42,
          43,
          44,
          45,
          46,
          47,
          48,
          49,
          50,
          51,
          52,
          53,
          54,
          55,
          56,
          57,
          58,
          59,
          60,
          61,
          62,
          63,
          64,
          65,
          66,
          67,
          68,
          69,
          70,
          71,
          72,
          73,
          74,
          75,
          76,
          77,
          78,
          79,
          80,
          81,
          82,
          83,
          84,
          85,
          86,
          87,
          88,
          89,
          90,
          91,
          92,
          93,
          94,
          95,
          96,
          97,
          98,
          99,
          100,
          101,
          102,
          103,
          104,
          105,
          106,
          107,
          108,
          109,
          110,
          111,
          112,
          113,
          114,
          115,
          116,
          117,
          118,
          119,
          120,
          121,
          122,
          123,
          124,
          125,
          126,
          127,
          128,
          129,
          130,
          131,
          132,
          133,
          134,
          135,
          136,
          137,
          138,
          139,
          140,
          141,
          142,
          143,
          144,
          145,
          146,
          147,
          148,
          149,
          150,
          151,
          152,
          153,
          154,
          155,
          156,
          157,
          158,
          159,
          160,
          161,
          162,
          163,
          164,
          165,
          166,
          167,
          168,
          169,
          170,
          171,
          172,
          173,
          174,
          175,
          176,
          177,
          178,
          179,
          180,
          181,
          182,
          183,
          184,
          185,
          186,
          187,
          188,
          189,
          190,
          191,
          192,
          193,
          194,
          195,
          196,
          197,
          198,
          199,
          200,
          201,
          202,
          203,
          204,
          205,
          206,
          207,
          208,
          209,
          210,
          211,
          212,
          213,
          214,
          215,
          216,
          217,
          218,
          219,
          220,
          221,
          222,
          223,
          224,
          225,
          226,
          227,
          228,
          229,
          230,
          231,
          232,
          233,
          234,
          235,
          236,
          237,
          238,
          239,
          240
         ],
         "xaxis": "x",
         "y": [
          0.28187919463087246,
          0.04020783100331389,
          0.035004248197225696,
          0.02803513204240073,
          0.02800126090249681,
          0.02735471064886716,
          0.02652120862790327,
          0.023858717245148316,
          0.02210534516622405,
          0.0207405814962116,
          0.01972106232153882,
          0.018672668810289388,
          0.018541398095249746,
          0.018482402597278073,
          0.015,
          0.014192317000385358,
          0.013455724130417018,
          0.013419447475480815,
          0.012965609519015013,
          0.010499576629974599,
          0.010293331972887447,
          0.01021197156011757,
          0.010043126439735182,
          0.009370953983144296,
          0.009022459448755214,
          0.008841517820930874,
          0.008776069424984332,
          0.008760782591289864,
          0.008698060941828255,
          0.008544883431657704,
          0.00831952646216643,
          0.008252000458637498,
          0.00823332277111258,
          0.00803216858633404,
          0.00762541554758372,
          0.007615820569358317,
          0.007378043374672287,
          0.007346665815242136,
          0.0072162772631134625,
          0.007060344453516332,
          0.007018230194055711,
          0.006798587591952903,
          0.006648148955575024,
          0.006556836118216949,
          0.006468760510690361,
          0.006403652303900774,
          0.006205076012072628,
          0.00590015831532561,
          0.005722685590208694,
          0.005720127921461027,
          0.005698522372571282,
          0.005680561087649753,
          0.005599517989568118,
          0.005402781033803729,
          0.005346763753666596,
          0.005136316781004515,
          0.004946359685760679,
          0.004823327231656021,
          0.004436276063121871,
          0.004430574094615004,
          0.004294659860642948,
          0.00414651732494314,
          0.004075146881193344,
          0.004044391358873238,
          0.00400888101730333,
          0.003961965134706815,
          0.0039096784488949175,
          0.003900709219858156,
          0.003761697963178176,
          0.003695718495697869,
          0.0036180208124358773,
          0.003582334977683815,
          0.003514571832070869,
          0.0034095500902808985,
          0.0033638450282142095,
          0.0033450743226778315,
          0.003344473804893612,
          0.0033415389055405343,
          0.0033387578259466365,
          0.0033101066934952987,
          0.0032657781058775355,
          0.003225287589598598,
          0.003136095600081335,
          0.003118396842864091,
          0.003110279875851935,
          0.00305674921366234,
          0.0030258767890058787,
          0.0029836052464784347,
          0.0028740154298257667,
          0.0028638609963783476,
          0.002768424990647213,
          0.0027649314571330215,
          0.0027381018418675116,
          0.002630432591611492,
          0.0025676012735302315,
          0.0025379355073400682,
          0.0025365227163268583,
          0.002530184659090909,
          0.0025282497721739678,
          0.0024956029852165234,
          0.0024824254298325197,
          0.002439061385381351,
          0.0023129623154431824,
          0.00222637812806127,
          0.002140181915462814,
          0.0021355207753137977,
          0.0021260505474412356,
          0.0021230138973841054,
          0.002116271522664217,
          0.002103353598744852,
          0.0021020819925108973,
          0.0020710456237506268,
          0.0020593787540758536,
          0.002058641965829553,
          0.002053881075092722,
          0.0020393724661523453,
          0.002030996545072941,
          0.002022235566075539,
          0.001998001998001998,
          0.001997231111413722,
          0.001985291331695059,
          0.0019727371902785182,
          0.0019437670208763424,
          0.0019227940403891818,
          0.0019074056728288359,
          0.0018758786463674974,
          0.0018465565306250505,
          0.0018445741937649306,
          0.0017730162023501896,
          0.0017695240527573564,
          0.001767674535764475,
          0.0017671015393111065,
          0.0017365941331760734,
          0.0016951600838510561,
          0.0016795784258151205,
          0.0016271518929151432,
          0.0016058740219575065,
          0.0015982151476471914,
          0.0015688828370137944,
          0.0015586901085523873,
          0.0015310338123551998,
          0.0015222500508589238,
          0.0014919260472735783,
          0.0014693599249978693,
          0.0014637002341920376,
          0.0014525191643886598,
          0.001444932381347398,
          0.001436265709156194,
          0.0014274911737965747,
          0.001423822641058109,
          0.0014171585193029448,
          0.0013992805231945874,
          0.0013888565598255782,
          0.0013574571783493072,
          0.0013354453255834061,
          0.0013236901638468848,
          0.0013155065332608117,
          0.0012877626148406678,
          0.0012592171537744935,
          0.0012490276681484688,
          0.0012315270935960591,
          0.0012241065572365095,
          0.0011864366561469284,
          0.0011684329034055238,
          0.0011586867131829785,
          0.0010980888304911395,
          0.0010936410321435363,
          0.0010589587913750328,
          0.0010289187742050301,
          0.0010062781782658261,
          0.0009856497869724654,
          0.0009555494064398186,
          0.0009043408360128617,
          0.000872660533177249,
          0.000859546799204987,
          0.0008565931558484662,
          0.0008495771056230572,
          0.0008261031094037802,
          0.0008202031456951875,
          0.000800022210974357,
          0.0007928151755934121,
          0.0007718982670536202,
          0.0007132667617689016,
          0.000711195948957117,
          0.0007049582060492128,
          0.0006977919735897026,
          0.0006833094729147233,
          0.0006432724063577557,
          0.0006326770327568702,
          0.0006257039169065198,
          0.0006010105187957641,
          0.0005884212561645375,
          0.0005855010813846503,
          0.0005644069383329133,
          0.000510986203372509,
          0.0004506534474988734,
          0.00043525014081622205,
          0.00041394540638546687,
          0.00039712700475830166,
          0.00038679824492252675,
          0.00037684837181673847,
          0.00037256778980514265,
          0.0003580815366677865,
          0.00034081574730495615,
          0.00033926593740557607,
          0.00033118582756681446,
          0.00032207388744020875,
          0.0003060815705731082,
          0.0002833752446063873,
          0.00028140892759476876,
          0.0002701670160178197,
          0.00022231800172616418,
          0.0002103196776944832,
          0.0002085913447093086,
          0.00019930024610319492,
          0.00019723041207276313,
          0.00017119021298109334,
          0.0001609054383840328,
          0.00014805164041217577,
          0.0001407256121326616,
          0.00013614102088085008,
          0.0001203835290497736,
          0.00011839491236505788,
          0.00011438556895734929,
          0.00011288212303242292,
          0.00011115246740549823,
          0.00009896675911996787,
          0.00009605542581614992,
          0.00009270614358710823,
          0.00008152450830530929,
          0.00005695733090315388,
          0.00005597840618382024,
          0.00005064549559900022,
          0.00004871858066333892,
          0.00004416212447305515,
          0.00004150236464524733,
          0.00003278854453789179,
          0.000025386913913132605,
          0.0000053608491647914824,
          7.70062733160557e-8
         ],
         "yaxis": "y"
        }
       ],
       "layout": {
        "barmode": "relative",
        "legend": {
         "title": {
          "text": "variable"
         },
         "tracegroupgap": 0
        },
        "margin": {
         "t": 60
        },
        "template": {
         "data": {
          "bar": [
           {
            "error_x": {
             "color": "#2a3f5f"
            },
            "error_y": {
             "color": "#2a3f5f"
            },
            "marker": {
             "line": {
              "color": "#E5ECF6",
              "width": 0.5
             },
             "pattern": {
              "fillmode": "overlay",
              "size": 10,
              "solidity": 0.2
             }
            },
            "type": "bar"
           }
          ],
          "barpolar": [
           {
            "marker": {
             "line": {
              "color": "#E5ECF6",
              "width": 0.5
             },
             "pattern": {
              "fillmode": "overlay",
              "size": 10,
              "solidity": 0.2
             }
            },
            "type": "barpolar"
           }
          ],
          "carpet": [
           {
            "aaxis": {
             "endlinecolor": "#2a3f5f",
             "gridcolor": "white",
             "linecolor": "white",
             "minorgridcolor": "white",
             "startlinecolor": "#2a3f5f"
            },
            "baxis": {
             "endlinecolor": "#2a3f5f",
             "gridcolor": "white",
             "linecolor": "white",
             "minorgridcolor": "white",
             "startlinecolor": "#2a3f5f"
            },
            "type": "carpet"
           }
          ],
          "choropleth": [
           {
            "colorbar": {
             "outlinewidth": 0,
             "ticks": ""
            },
            "type": "choropleth"
           }
          ],
          "contour": [
           {
            "colorbar": {
             "outlinewidth": 0,
             "ticks": ""
            },
            "colorscale": [
             [
              0,
              "#0d0887"
             ],
             [
              0.1111111111111111,
              "#46039f"
             ],
             [
              0.2222222222222222,
              "#7201a8"
             ],
             [
              0.3333333333333333,
              "#9c179e"
             ],
             [
              0.4444444444444444,
              "#bd3786"
             ],
             [
              0.5555555555555556,
              "#d8576b"
             ],
             [
              0.6666666666666666,
              "#ed7953"
             ],
             [
              0.7777777777777778,
              "#fb9f3a"
             ],
             [
              0.8888888888888888,
              "#fdca26"
             ],
             [
              1,
              "#f0f921"
             ]
            ],
            "type": "contour"
           }
          ],
          "contourcarpet": [
           {
            "colorbar": {
             "outlinewidth": 0,
             "ticks": ""
            },
            "type": "contourcarpet"
           }
          ],
          "heatmap": [
           {
            "colorbar": {
             "outlinewidth": 0,
             "ticks": ""
            },
            "colorscale": [
             [
              0,
              "#0d0887"
             ],
             [
              0.1111111111111111,
              "#46039f"
             ],
             [
              0.2222222222222222,
              "#7201a8"
             ],
             [
              0.3333333333333333,
              "#9c179e"
             ],
             [
              0.4444444444444444,
              "#bd3786"
             ],
             [
              0.5555555555555556,
              "#d8576b"
             ],
             [
              0.6666666666666666,
              "#ed7953"
             ],
             [
              0.7777777777777778,
              "#fb9f3a"
             ],
             [
              0.8888888888888888,
              "#fdca26"
             ],
             [
              1,
              "#f0f921"
             ]
            ],
            "type": "heatmap"
           }
          ],
          "heatmapgl": [
           {
            "colorbar": {
             "outlinewidth": 0,
             "ticks": ""
            },
            "colorscale": [
             [
              0,
              "#0d0887"
             ],
             [
              0.1111111111111111,
              "#46039f"
             ],
             [
              0.2222222222222222,
              "#7201a8"
             ],
             [
              0.3333333333333333,
              "#9c179e"
             ],
             [
              0.4444444444444444,
              "#bd3786"
             ],
             [
              0.5555555555555556,
              "#d8576b"
             ],
             [
              0.6666666666666666,
              "#ed7953"
             ],
             [
              0.7777777777777778,
              "#fb9f3a"
             ],
             [
              0.8888888888888888,
              "#fdca26"
             ],
             [
              1,
              "#f0f921"
             ]
            ],
            "type": "heatmapgl"
           }
          ],
          "histogram": [
           {
            "marker": {
             "pattern": {
              "fillmode": "overlay",
              "size": 10,
              "solidity": 0.2
             }
            },
            "type": "histogram"
           }
          ],
          "histogram2d": [
           {
            "colorbar": {
             "outlinewidth": 0,
             "ticks": ""
            },
            "colorscale": [
             [
              0,
              "#0d0887"
             ],
             [
              0.1111111111111111,
              "#46039f"
             ],
             [
              0.2222222222222222,
              "#7201a8"
             ],
             [
              0.3333333333333333,
              "#9c179e"
             ],
             [
              0.4444444444444444,
              "#bd3786"
             ],
             [
              0.5555555555555556,
              "#d8576b"
             ],
             [
              0.6666666666666666,
              "#ed7953"
             ],
             [
              0.7777777777777778,
              "#fb9f3a"
             ],
             [
              0.8888888888888888,
              "#fdca26"
             ],
             [
              1,
              "#f0f921"
             ]
            ],
            "type": "histogram2d"
           }
          ],
          "histogram2dcontour": [
           {
            "colorbar": {
             "outlinewidth": 0,
             "ticks": ""
            },
            "colorscale": [
             [
              0,
              "#0d0887"
             ],
             [
              0.1111111111111111,
              "#46039f"
             ],
             [
              0.2222222222222222,
              "#7201a8"
             ],
             [
              0.3333333333333333,
              "#9c179e"
             ],
             [
              0.4444444444444444,
              "#bd3786"
             ],
             [
              0.5555555555555556,
              "#d8576b"
             ],
             [
              0.6666666666666666,
              "#ed7953"
             ],
             [
              0.7777777777777778,
              "#fb9f3a"
             ],
             [
              0.8888888888888888,
              "#fdca26"
             ],
             [
              1,
              "#f0f921"
             ]
            ],
            "type": "histogram2dcontour"
           }
          ],
          "mesh3d": [
           {
            "colorbar": {
             "outlinewidth": 0,
             "ticks": ""
            },
            "type": "mesh3d"
           }
          ],
          "parcoords": [
           {
            "line": {
             "colorbar": {
              "outlinewidth": 0,
              "ticks": ""
             }
            },
            "type": "parcoords"
           }
          ],
          "pie": [
           {
            "automargin": true,
            "type": "pie"
           }
          ],
          "scatter": [
           {
            "fillpattern": {
             "fillmode": "overlay",
             "size": 10,
             "solidity": 0.2
            },
            "type": "scatter"
           }
          ],
          "scatter3d": [
           {
            "line": {
             "colorbar": {
              "outlinewidth": 0,
              "ticks": ""
             }
            },
            "marker": {
             "colorbar": {
              "outlinewidth": 0,
              "ticks": ""
             }
            },
            "type": "scatter3d"
           }
          ],
          "scattercarpet": [
           {
            "marker": {
             "colorbar": {
              "outlinewidth": 0,
              "ticks": ""
             }
            },
            "type": "scattercarpet"
           }
          ],
          "scattergeo": [
           {
            "marker": {
             "colorbar": {
              "outlinewidth": 0,
              "ticks": ""
             }
            },
            "type": "scattergeo"
           }
          ],
          "scattergl": [
           {
            "marker": {
             "colorbar": {
              "outlinewidth": 0,
              "ticks": ""
             }
            },
            "type": "scattergl"
           }
          ],
          "scattermapbox": [
           {
            "marker": {
             "colorbar": {
              "outlinewidth": 0,
              "ticks": ""
             }
            },
            "type": "scattermapbox"
           }
          ],
          "scatterpolar": [
           {
            "marker": {
             "colorbar": {
              "outlinewidth": 0,
              "ticks": ""
             }
            },
            "type": "scatterpolar"
           }
          ],
          "scatterpolargl": [
           {
            "marker": {
             "colorbar": {
              "outlinewidth": 0,
              "ticks": ""
             }
            },
            "type": "scatterpolargl"
           }
          ],
          "scatterternary": [
           {
            "marker": {
             "colorbar": {
              "outlinewidth": 0,
              "ticks": ""
             }
            },
            "type": "scatterternary"
           }
          ],
          "surface": [
           {
            "colorbar": {
             "outlinewidth": 0,
             "ticks": ""
            },
            "colorscale": [
             [
              0,
              "#0d0887"
             ],
             [
              0.1111111111111111,
              "#46039f"
             ],
             [
              0.2222222222222222,
              "#7201a8"
             ],
             [
              0.3333333333333333,
              "#9c179e"
             ],
             [
              0.4444444444444444,
              "#bd3786"
             ],
             [
              0.5555555555555556,
              "#d8576b"
             ],
             [
              0.6666666666666666,
              "#ed7953"
             ],
             [
              0.7777777777777778,
              "#fb9f3a"
             ],
             [
              0.8888888888888888,
              "#fdca26"
             ],
             [
              1,
              "#f0f921"
             ]
            ],
            "type": "surface"
           }
          ],
          "table": [
           {
            "cells": {
             "fill": {
              "color": "#EBF0F8"
             },
             "line": {
              "color": "white"
             }
            },
            "header": {
             "fill": {
              "color": "#C8D4E3"
             },
             "line": {
              "color": "white"
             }
            },
            "type": "table"
           }
          ]
         },
         "layout": {
          "annotationdefaults": {
           "arrowcolor": "#2a3f5f",
           "arrowhead": 0,
           "arrowwidth": 1
          },
          "autotypenumbers": "strict",
          "coloraxis": {
           "colorbar": {
            "outlinewidth": 0,
            "ticks": ""
           }
          },
          "colorscale": {
           "diverging": [
            [
             0,
             "#8e0152"
            ],
            [
             0.1,
             "#c51b7d"
            ],
            [
             0.2,
             "#de77ae"
            ],
            [
             0.3,
             "#f1b6da"
            ],
            [
             0.4,
             "#fde0ef"
            ],
            [
             0.5,
             "#f7f7f7"
            ],
            [
             0.6,
             "#e6f5d0"
            ],
            [
             0.7,
             "#b8e186"
            ],
            [
             0.8,
             "#7fbc41"
            ],
            [
             0.9,
             "#4d9221"
            ],
            [
             1,
             "#276419"
            ]
           ],
           "sequential": [
            [
             0,
             "#0d0887"
            ],
            [
             0.1111111111111111,
             "#46039f"
            ],
            [
             0.2222222222222222,
             "#7201a8"
            ],
            [
             0.3333333333333333,
             "#9c179e"
            ],
            [
             0.4444444444444444,
             "#bd3786"
            ],
            [
             0.5555555555555556,
             "#d8576b"
            ],
            [
             0.6666666666666666,
             "#ed7953"
            ],
            [
             0.7777777777777778,
             "#fb9f3a"
            ],
            [
             0.8888888888888888,
             "#fdca26"
            ],
            [
             1,
             "#f0f921"
            ]
           ],
           "sequentialminus": [
            [
             0,
             "#0d0887"
            ],
            [
             0.1111111111111111,
             "#46039f"
            ],
            [
             0.2222222222222222,
             "#7201a8"
            ],
            [
             0.3333333333333333,
             "#9c179e"
            ],
            [
             0.4444444444444444,
             "#bd3786"
            ],
            [
             0.5555555555555556,
             "#d8576b"
            ],
            [
             0.6666666666666666,
             "#ed7953"
            ],
            [
             0.7777777777777778,
             "#fb9f3a"
            ],
            [
             0.8888888888888888,
             "#fdca26"
            ],
            [
             1,
             "#f0f921"
            ]
           ]
          },
          "colorway": [
           "#636efa",
           "#EF553B",
           "#00cc96",
           "#ab63fa",
           "#FFA15A",
           "#19d3f3",
           "#FF6692",
           "#B6E880",
           "#FF97FF",
           "#FECB52"
          ],
          "font": {
           "color": "#2a3f5f"
          },
          "geo": {
           "bgcolor": "white",
           "lakecolor": "white",
           "landcolor": "#E5ECF6",
           "showlakes": true,
           "showland": true,
           "subunitcolor": "white"
          },
          "hoverlabel": {
           "align": "left"
          },
          "hovermode": "closest",
          "mapbox": {
           "style": "light"
          },
          "paper_bgcolor": "white",
          "plot_bgcolor": "#E5ECF6",
          "polar": {
           "angularaxis": {
            "gridcolor": "white",
            "linecolor": "white",
            "ticks": ""
           },
           "bgcolor": "#E5ECF6",
           "radialaxis": {
            "gridcolor": "white",
            "linecolor": "white",
            "ticks": ""
           }
          },
          "scene": {
           "xaxis": {
            "backgroundcolor": "#E5ECF6",
            "gridcolor": "white",
            "gridwidth": 2,
            "linecolor": "white",
            "showbackground": true,
            "ticks": "",
            "zerolinecolor": "white"
           },
           "yaxis": {
            "backgroundcolor": "#E5ECF6",
            "gridcolor": "white",
            "gridwidth": 2,
            "linecolor": "white",
            "showbackground": true,
            "ticks": "",
            "zerolinecolor": "white"
           },
           "zaxis": {
            "backgroundcolor": "#E5ECF6",
            "gridcolor": "white",
            "gridwidth": 2,
            "linecolor": "white",
            "showbackground": true,
            "ticks": "",
            "zerolinecolor": "white"
           }
          },
          "shapedefaults": {
           "line": {
            "color": "#2a3f5f"
           }
          },
          "ternary": {
           "aaxis": {
            "gridcolor": "white",
            "linecolor": "white",
            "ticks": ""
           },
           "baxis": {
            "gridcolor": "white",
            "linecolor": "white",
            "ticks": ""
           },
           "bgcolor": "#E5ECF6",
           "caxis": {
            "gridcolor": "white",
            "linecolor": "white",
            "ticks": ""
           }
          },
          "title": {
           "x": 0.05
          },
          "xaxis": {
           "automargin": true,
           "gridcolor": "white",
           "linecolor": "white",
           "ticks": "",
           "title": {
            "standoff": 15
           },
           "zerolinecolor": "white",
           "zerolinewidth": 2
          },
          "yaxis": {
           "automargin": true,
           "gridcolor": "white",
           "linecolor": "white",
           "ticks": "",
           "title": {
            "standoff": 15
           },
           "zerolinecolor": "white",
           "zerolinewidth": 2
          }
         }
        },
        "xaxis": {
         "anchor": "y",
         "domain": [
          0,
          1
         ],
         "title": {
          "text": "index"
         }
        },
        "yaxis": {
         "anchor": "x",
         "domain": [
          0,
          1
         ],
         "title": {
          "text": "value"
         }
        }
       }
      }
     },
     "metadata": {},
     "output_type": "display_data"
    }
   ],
   "source": [
    "rpcpc = pd.merge(reports, capita, how='left', on='iso3')\n",
    "rpcpc = rpcpc[rpcpc['population'] > 0]\n",
    "rpcpc['rpc'] = rpcpc['reports'] / rpcpc['population']\n",
    "\n",
    "rpcpc = rpcpc.sort_values(by=['rpc'], ascending=False)\n",
    "rpcpc.index = pd.RangeIndex(start=1, stop=len(rpcpc) + 1, step=1)\n",
    "\n",
    "display(rpcpc.head(20))\n",
    "px.bar(rpcpc['rpc']).show()"
   ]
  },
  {
   "attachments": {},
   "cell_type": "markdown",
   "metadata": {},
   "source": [
    "Whoa! Given the small number of reports and small population size, the outlier for\n",
    "the Cocos Islands is suspect. The group of 27 tiny islands in the Indian Ocean also\n",
    "is so small, it won't show even on a map of the region. It's best to remove the row\n",
    "from our dataset."
   ]
  },
  {
   "cell_type": "code",
   "execution_count": 7,
   "metadata": {},
   "outputs": [
    {
     "data": {
      "application/vnd.plotly.v1+json": {
       "config": {
        "plotlyServerURL": "https://plot.ly"
       },
       "data": [
        {
         "alignmentgroup": "True",
         "hovertemplate": "variable=rpc<br>index=%{x}<br>value=%{y}<extra></extra>",
         "legendgroup": "rpc",
         "marker": {
          "color": "#636efa",
          "pattern": {
           "shape": ""
          }
         },
         "name": "rpc",
         "offsetgroup": "rpc",
         "orientation": "v",
         "showlegend": true,
         "textposition": "auto",
         "type": "bar",
         "x": [
          2,
          3,
          4,
          5,
          6,
          7,
          8,
          9,
          10,
          11,
          12,
          13,
          14,
          15,
          16,
          17,
          18,
          19,
          20,
          21,
          22,
          23,
          24,
          25,
          26,
          27,
          28,
          29,
          30,
          31,
          32,
          33,
          34,
          35,
          36,
          37,
          38,
          39,
          40,
          41,
          42,
          43,
          44,
          45,
          46,
          47,
          48,
          49,
          50,
          51,
          52,
          53,
          54,
          55,
          56,
          57,
          58,
          59,
          60,
          61,
          62,
          63,
          64,
          65,
          66,
          67,
          68,
          69,
          70,
          71,
          72,
          73,
          74,
          75,
          76,
          77,
          78,
          79,
          80,
          81,
          82,
          83,
          84,
          85,
          86,
          87,
          88,
          89,
          90,
          91,
          92,
          93,
          94,
          95,
          96,
          97,
          98,
          99,
          100,
          101,
          102,
          103,
          104,
          105,
          106,
          107,
          108,
          109,
          110,
          111,
          112,
          113,
          114,
          115,
          116,
          117,
          118,
          119,
          120,
          121,
          122,
          123,
          124,
          125,
          126,
          127,
          128,
          129,
          130,
          131,
          132,
          133,
          134,
          135,
          136,
          137,
          138,
          139,
          140,
          141,
          142,
          143,
          144,
          145,
          146,
          147,
          148,
          149,
          150,
          151,
          152,
          153,
          154,
          155,
          156,
          157,
          158,
          159,
          160,
          161,
          162,
          163,
          164,
          165,
          166,
          167,
          168,
          169,
          170,
          171,
          172,
          173,
          174,
          175,
          176,
          177,
          178,
          179,
          180,
          181,
          182,
          183,
          184,
          185,
          186,
          187,
          188,
          189,
          190,
          191,
          192,
          193,
          194,
          195,
          196,
          197,
          198,
          199,
          200,
          201,
          202,
          203,
          204,
          205,
          206,
          207,
          208,
          209,
          210,
          211,
          212,
          213,
          214,
          215,
          216,
          217,
          218,
          219,
          220,
          221,
          222,
          223,
          224,
          225,
          226,
          227,
          228,
          229,
          230,
          231,
          232,
          233,
          234,
          235,
          236,
          237,
          238,
          239,
          240
         ],
         "xaxis": "x",
         "y": [
          0.04020783100331389,
          0.035004248197225696,
          0.02803513204240073,
          0.02800126090249681,
          0.02735471064886716,
          0.02652120862790327,
          0.023858717245148316,
          0.02210534516622405,
          0.0207405814962116,
          0.01972106232153882,
          0.018672668810289388,
          0.018541398095249746,
          0.018482402597278073,
          0.015,
          0.014192317000385358,
          0.013455724130417018,
          0.013419447475480815,
          0.012965609519015013,
          0.010499576629974599,
          0.010293331972887447,
          0.01021197156011757,
          0.010043126439735182,
          0.009370953983144296,
          0.009022459448755214,
          0.008841517820930874,
          0.008776069424984332,
          0.008760782591289864,
          0.008698060941828255,
          0.008544883431657704,
          0.00831952646216643,
          0.008252000458637498,
          0.00823332277111258,
          0.00803216858633404,
          0.00762541554758372,
          0.007615820569358317,
          0.007378043374672287,
          0.007346665815242136,
          0.0072162772631134625,
          0.007060344453516332,
          0.007018230194055711,
          0.006798587591952903,
          0.006648148955575024,
          0.006556836118216949,
          0.006468760510690361,
          0.006403652303900774,
          0.006205076012072628,
          0.00590015831532561,
          0.005722685590208694,
          0.005720127921461027,
          0.005698522372571282,
          0.005680561087649753,
          0.005599517989568118,
          0.005402781033803729,
          0.005346763753666596,
          0.005136316781004515,
          0.004946359685760679,
          0.004823327231656021,
          0.004436276063121871,
          0.004430574094615004,
          0.004294659860642948,
          0.00414651732494314,
          0.004075146881193344,
          0.004044391358873238,
          0.00400888101730333,
          0.003961965134706815,
          0.0039096784488949175,
          0.003900709219858156,
          0.003761697963178176,
          0.003695718495697869,
          0.0036180208124358773,
          0.003582334977683815,
          0.003514571832070869,
          0.0034095500902808985,
          0.0033638450282142095,
          0.0033450743226778315,
          0.003344473804893612,
          0.0033415389055405343,
          0.0033387578259466365,
          0.0033101066934952987,
          0.0032657781058775355,
          0.003225287589598598,
          0.003136095600081335,
          0.003118396842864091,
          0.003110279875851935,
          0.00305674921366234,
          0.0030258767890058787,
          0.0029836052464784347,
          0.0028740154298257667,
          0.0028638609963783476,
          0.002768424990647213,
          0.0027649314571330215,
          0.0027381018418675116,
          0.002630432591611492,
          0.0025676012735302315,
          0.0025379355073400682,
          0.0025365227163268583,
          0.002530184659090909,
          0.0025282497721739678,
          0.0024956029852165234,
          0.0024824254298325197,
          0.002439061385381351,
          0.0023129623154431824,
          0.00222637812806127,
          0.002140181915462814,
          0.0021355207753137977,
          0.0021260505474412356,
          0.0021230138973841054,
          0.002116271522664217,
          0.002103353598744852,
          0.0021020819925108973,
          0.0020710456237506268,
          0.0020593787540758536,
          0.002058641965829553,
          0.002053881075092722,
          0.0020393724661523453,
          0.002030996545072941,
          0.002022235566075539,
          0.001998001998001998,
          0.001997231111413722,
          0.001985291331695059,
          0.0019727371902785182,
          0.0019437670208763424,
          0.0019227940403891818,
          0.0019074056728288359,
          0.0018758786463674974,
          0.0018465565306250505,
          0.0018445741937649306,
          0.0017730162023501896,
          0.0017695240527573564,
          0.001767674535764475,
          0.0017671015393111065,
          0.0017365941331760734,
          0.0016951600838510561,
          0.0016795784258151205,
          0.0016271518929151432,
          0.0016058740219575065,
          0.0015982151476471914,
          0.0015688828370137944,
          0.0015586901085523873,
          0.0015310338123551998,
          0.0015222500508589238,
          0.0014919260472735783,
          0.0014693599249978693,
          0.0014637002341920376,
          0.0014525191643886598,
          0.001444932381347398,
          0.001436265709156194,
          0.0014274911737965747,
          0.001423822641058109,
          0.0014171585193029448,
          0.0013992805231945874,
          0.0013888565598255782,
          0.0013574571783493072,
          0.0013354453255834061,
          0.0013236901638468848,
          0.0013155065332608117,
          0.0012877626148406678,
          0.0012592171537744935,
          0.0012490276681484688,
          0.0012315270935960591,
          0.0012241065572365095,
          0.0011864366561469284,
          0.0011684329034055238,
          0.0011586867131829785,
          0.0010980888304911395,
          0.0010936410321435363,
          0.0010589587913750328,
          0.0010289187742050301,
          0.0010062781782658261,
          0.0009856497869724654,
          0.0009555494064398186,
          0.0009043408360128617,
          0.000872660533177249,
          0.000859546799204987,
          0.0008565931558484662,
          0.0008495771056230572,
          0.0008261031094037802,
          0.0008202031456951875,
          0.000800022210974357,
          0.0007928151755934121,
          0.0007718982670536202,
          0.0007132667617689016,
          0.000711195948957117,
          0.0007049582060492128,
          0.0006977919735897026,
          0.0006833094729147233,
          0.0006432724063577557,
          0.0006326770327568702,
          0.0006257039169065198,
          0.0006010105187957641,
          0.0005884212561645375,
          0.0005855010813846503,
          0.0005644069383329133,
          0.000510986203372509,
          0.0004506534474988734,
          0.00043525014081622205,
          0.00041394540638546687,
          0.00039712700475830166,
          0.00038679824492252675,
          0.00037684837181673847,
          0.00037256778980514265,
          0.0003580815366677865,
          0.00034081574730495615,
          0.00033926593740557607,
          0.00033118582756681446,
          0.00032207388744020875,
          0.0003060815705731082,
          0.0002833752446063873,
          0.00028140892759476876,
          0.0002701670160178197,
          0.00022231800172616418,
          0.0002103196776944832,
          0.0002085913447093086,
          0.00019930024610319492,
          0.00019723041207276313,
          0.00017119021298109334,
          0.0001609054383840328,
          0.00014805164041217577,
          0.0001407256121326616,
          0.00013614102088085008,
          0.0001203835290497736,
          0.00011839491236505788,
          0.00011438556895734929,
          0.00011288212303242292,
          0.00011115246740549823,
          0.00009896675911996787,
          0.00009605542581614992,
          0.00009270614358710823,
          0.00008152450830530929,
          0.00005695733090315388,
          0.00005597840618382024,
          0.00005064549559900022,
          0.00004871858066333892,
          0.00004416212447305515,
          0.00004150236464524733,
          0.00003278854453789179,
          0.000025386913913132605,
          0.0000053608491647914824,
          7.70062733160557e-8
         ],
         "yaxis": "y"
        }
       ],
       "layout": {
        "barmode": "relative",
        "legend": {
         "title": {
          "text": "variable"
         },
         "tracegroupgap": 0
        },
        "margin": {
         "t": 60
        },
        "template": {
         "data": {
          "bar": [
           {
            "error_x": {
             "color": "#2a3f5f"
            },
            "error_y": {
             "color": "#2a3f5f"
            },
            "marker": {
             "line": {
              "color": "#E5ECF6",
              "width": 0.5
             },
             "pattern": {
              "fillmode": "overlay",
              "size": 10,
              "solidity": 0.2
             }
            },
            "type": "bar"
           }
          ],
          "barpolar": [
           {
            "marker": {
             "line": {
              "color": "#E5ECF6",
              "width": 0.5
             },
             "pattern": {
              "fillmode": "overlay",
              "size": 10,
              "solidity": 0.2
             }
            },
            "type": "barpolar"
           }
          ],
          "carpet": [
           {
            "aaxis": {
             "endlinecolor": "#2a3f5f",
             "gridcolor": "white",
             "linecolor": "white",
             "minorgridcolor": "white",
             "startlinecolor": "#2a3f5f"
            },
            "baxis": {
             "endlinecolor": "#2a3f5f",
             "gridcolor": "white",
             "linecolor": "white",
             "minorgridcolor": "white",
             "startlinecolor": "#2a3f5f"
            },
            "type": "carpet"
           }
          ],
          "choropleth": [
           {
            "colorbar": {
             "outlinewidth": 0,
             "ticks": ""
            },
            "type": "choropleth"
           }
          ],
          "contour": [
           {
            "colorbar": {
             "outlinewidth": 0,
             "ticks": ""
            },
            "colorscale": [
             [
              0,
              "#0d0887"
             ],
             [
              0.1111111111111111,
              "#46039f"
             ],
             [
              0.2222222222222222,
              "#7201a8"
             ],
             [
              0.3333333333333333,
              "#9c179e"
             ],
             [
              0.4444444444444444,
              "#bd3786"
             ],
             [
              0.5555555555555556,
              "#d8576b"
             ],
             [
              0.6666666666666666,
              "#ed7953"
             ],
             [
              0.7777777777777778,
              "#fb9f3a"
             ],
             [
              0.8888888888888888,
              "#fdca26"
             ],
             [
              1,
              "#f0f921"
             ]
            ],
            "type": "contour"
           }
          ],
          "contourcarpet": [
           {
            "colorbar": {
             "outlinewidth": 0,
             "ticks": ""
            },
            "type": "contourcarpet"
           }
          ],
          "heatmap": [
           {
            "colorbar": {
             "outlinewidth": 0,
             "ticks": ""
            },
            "colorscale": [
             [
              0,
              "#0d0887"
             ],
             [
              0.1111111111111111,
              "#46039f"
             ],
             [
              0.2222222222222222,
              "#7201a8"
             ],
             [
              0.3333333333333333,
              "#9c179e"
             ],
             [
              0.4444444444444444,
              "#bd3786"
             ],
             [
              0.5555555555555556,
              "#d8576b"
             ],
             [
              0.6666666666666666,
              "#ed7953"
             ],
             [
              0.7777777777777778,
              "#fb9f3a"
             ],
             [
              0.8888888888888888,
              "#fdca26"
             ],
             [
              1,
              "#f0f921"
             ]
            ],
            "type": "heatmap"
           }
          ],
          "heatmapgl": [
           {
            "colorbar": {
             "outlinewidth": 0,
             "ticks": ""
            },
            "colorscale": [
             [
              0,
              "#0d0887"
             ],
             [
              0.1111111111111111,
              "#46039f"
             ],
             [
              0.2222222222222222,
              "#7201a8"
             ],
             [
              0.3333333333333333,
              "#9c179e"
             ],
             [
              0.4444444444444444,
              "#bd3786"
             ],
             [
              0.5555555555555556,
              "#d8576b"
             ],
             [
              0.6666666666666666,
              "#ed7953"
             ],
             [
              0.7777777777777778,
              "#fb9f3a"
             ],
             [
              0.8888888888888888,
              "#fdca26"
             ],
             [
              1,
              "#f0f921"
             ]
            ],
            "type": "heatmapgl"
           }
          ],
          "histogram": [
           {
            "marker": {
             "pattern": {
              "fillmode": "overlay",
              "size": 10,
              "solidity": 0.2
             }
            },
            "type": "histogram"
           }
          ],
          "histogram2d": [
           {
            "colorbar": {
             "outlinewidth": 0,
             "ticks": ""
            },
            "colorscale": [
             [
              0,
              "#0d0887"
             ],
             [
              0.1111111111111111,
              "#46039f"
             ],
             [
              0.2222222222222222,
              "#7201a8"
             ],
             [
              0.3333333333333333,
              "#9c179e"
             ],
             [
              0.4444444444444444,
              "#bd3786"
             ],
             [
              0.5555555555555556,
              "#d8576b"
             ],
             [
              0.6666666666666666,
              "#ed7953"
             ],
             [
              0.7777777777777778,
              "#fb9f3a"
             ],
             [
              0.8888888888888888,
              "#fdca26"
             ],
             [
              1,
              "#f0f921"
             ]
            ],
            "type": "histogram2d"
           }
          ],
          "histogram2dcontour": [
           {
            "colorbar": {
             "outlinewidth": 0,
             "ticks": ""
            },
            "colorscale": [
             [
              0,
              "#0d0887"
             ],
             [
              0.1111111111111111,
              "#46039f"
             ],
             [
              0.2222222222222222,
              "#7201a8"
             ],
             [
              0.3333333333333333,
              "#9c179e"
             ],
             [
              0.4444444444444444,
              "#bd3786"
             ],
             [
              0.5555555555555556,
              "#d8576b"
             ],
             [
              0.6666666666666666,
              "#ed7953"
             ],
             [
              0.7777777777777778,
              "#fb9f3a"
             ],
             [
              0.8888888888888888,
              "#fdca26"
             ],
             [
              1,
              "#f0f921"
             ]
            ],
            "type": "histogram2dcontour"
           }
          ],
          "mesh3d": [
           {
            "colorbar": {
             "outlinewidth": 0,
             "ticks": ""
            },
            "type": "mesh3d"
           }
          ],
          "parcoords": [
           {
            "line": {
             "colorbar": {
              "outlinewidth": 0,
              "ticks": ""
             }
            },
            "type": "parcoords"
           }
          ],
          "pie": [
           {
            "automargin": true,
            "type": "pie"
           }
          ],
          "scatter": [
           {
            "fillpattern": {
             "fillmode": "overlay",
             "size": 10,
             "solidity": 0.2
            },
            "type": "scatter"
           }
          ],
          "scatter3d": [
           {
            "line": {
             "colorbar": {
              "outlinewidth": 0,
              "ticks": ""
             }
            },
            "marker": {
             "colorbar": {
              "outlinewidth": 0,
              "ticks": ""
             }
            },
            "type": "scatter3d"
           }
          ],
          "scattercarpet": [
           {
            "marker": {
             "colorbar": {
              "outlinewidth": 0,
              "ticks": ""
             }
            },
            "type": "scattercarpet"
           }
          ],
          "scattergeo": [
           {
            "marker": {
             "colorbar": {
              "outlinewidth": 0,
              "ticks": ""
             }
            },
            "type": "scattergeo"
           }
          ],
          "scattergl": [
           {
            "marker": {
             "colorbar": {
              "outlinewidth": 0,
              "ticks": ""
             }
            },
            "type": "scattergl"
           }
          ],
          "scattermapbox": [
           {
            "marker": {
             "colorbar": {
              "outlinewidth": 0,
              "ticks": ""
             }
            },
            "type": "scattermapbox"
           }
          ],
          "scatterpolar": [
           {
            "marker": {
             "colorbar": {
              "outlinewidth": 0,
              "ticks": ""
             }
            },
            "type": "scatterpolar"
           }
          ],
          "scatterpolargl": [
           {
            "marker": {
             "colorbar": {
              "outlinewidth": 0,
              "ticks": ""
             }
            },
            "type": "scatterpolargl"
           }
          ],
          "scatterternary": [
           {
            "marker": {
             "colorbar": {
              "outlinewidth": 0,
              "ticks": ""
             }
            },
            "type": "scatterternary"
           }
          ],
          "surface": [
           {
            "colorbar": {
             "outlinewidth": 0,
             "ticks": ""
            },
            "colorscale": [
             [
              0,
              "#0d0887"
             ],
             [
              0.1111111111111111,
              "#46039f"
             ],
             [
              0.2222222222222222,
              "#7201a8"
             ],
             [
              0.3333333333333333,
              "#9c179e"
             ],
             [
              0.4444444444444444,
              "#bd3786"
             ],
             [
              0.5555555555555556,
              "#d8576b"
             ],
             [
              0.6666666666666666,
              "#ed7953"
             ],
             [
              0.7777777777777778,
              "#fb9f3a"
             ],
             [
              0.8888888888888888,
              "#fdca26"
             ],
             [
              1,
              "#f0f921"
             ]
            ],
            "type": "surface"
           }
          ],
          "table": [
           {
            "cells": {
             "fill": {
              "color": "#EBF0F8"
             },
             "line": {
              "color": "white"
             }
            },
            "header": {
             "fill": {
              "color": "#C8D4E3"
             },
             "line": {
              "color": "white"
             }
            },
            "type": "table"
           }
          ]
         },
         "layout": {
          "annotationdefaults": {
           "arrowcolor": "#2a3f5f",
           "arrowhead": 0,
           "arrowwidth": 1
          },
          "autotypenumbers": "strict",
          "coloraxis": {
           "colorbar": {
            "outlinewidth": 0,
            "ticks": ""
           }
          },
          "colorscale": {
           "diverging": [
            [
             0,
             "#8e0152"
            ],
            [
             0.1,
             "#c51b7d"
            ],
            [
             0.2,
             "#de77ae"
            ],
            [
             0.3,
             "#f1b6da"
            ],
            [
             0.4,
             "#fde0ef"
            ],
            [
             0.5,
             "#f7f7f7"
            ],
            [
             0.6,
             "#e6f5d0"
            ],
            [
             0.7,
             "#b8e186"
            ],
            [
             0.8,
             "#7fbc41"
            ],
            [
             0.9,
             "#4d9221"
            ],
            [
             1,
             "#276419"
            ]
           ],
           "sequential": [
            [
             0,
             "#0d0887"
            ],
            [
             0.1111111111111111,
             "#46039f"
            ],
            [
             0.2222222222222222,
             "#7201a8"
            ],
            [
             0.3333333333333333,
             "#9c179e"
            ],
            [
             0.4444444444444444,
             "#bd3786"
            ],
            [
             0.5555555555555556,
             "#d8576b"
            ],
            [
             0.6666666666666666,
             "#ed7953"
            ],
            [
             0.7777777777777778,
             "#fb9f3a"
            ],
            [
             0.8888888888888888,
             "#fdca26"
            ],
            [
             1,
             "#f0f921"
            ]
           ],
           "sequentialminus": [
            [
             0,
             "#0d0887"
            ],
            [
             0.1111111111111111,
             "#46039f"
            ],
            [
             0.2222222222222222,
             "#7201a8"
            ],
            [
             0.3333333333333333,
             "#9c179e"
            ],
            [
             0.4444444444444444,
             "#bd3786"
            ],
            [
             0.5555555555555556,
             "#d8576b"
            ],
            [
             0.6666666666666666,
             "#ed7953"
            ],
            [
             0.7777777777777778,
             "#fb9f3a"
            ],
            [
             0.8888888888888888,
             "#fdca26"
            ],
            [
             1,
             "#f0f921"
            ]
           ]
          },
          "colorway": [
           "#636efa",
           "#EF553B",
           "#00cc96",
           "#ab63fa",
           "#FFA15A",
           "#19d3f3",
           "#FF6692",
           "#B6E880",
           "#FF97FF",
           "#FECB52"
          ],
          "font": {
           "color": "#2a3f5f"
          },
          "geo": {
           "bgcolor": "white",
           "lakecolor": "white",
           "landcolor": "#E5ECF6",
           "showlakes": true,
           "showland": true,
           "subunitcolor": "white"
          },
          "hoverlabel": {
           "align": "left"
          },
          "hovermode": "closest",
          "mapbox": {
           "style": "light"
          },
          "paper_bgcolor": "white",
          "plot_bgcolor": "#E5ECF6",
          "polar": {
           "angularaxis": {
            "gridcolor": "white",
            "linecolor": "white",
            "ticks": ""
           },
           "bgcolor": "#E5ECF6",
           "radialaxis": {
            "gridcolor": "white",
            "linecolor": "white",
            "ticks": ""
           }
          },
          "scene": {
           "xaxis": {
            "backgroundcolor": "#E5ECF6",
            "gridcolor": "white",
            "gridwidth": 2,
            "linecolor": "white",
            "showbackground": true,
            "ticks": "",
            "zerolinecolor": "white"
           },
           "yaxis": {
            "backgroundcolor": "#E5ECF6",
            "gridcolor": "white",
            "gridwidth": 2,
            "linecolor": "white",
            "showbackground": true,
            "ticks": "",
            "zerolinecolor": "white"
           },
           "zaxis": {
            "backgroundcolor": "#E5ECF6",
            "gridcolor": "white",
            "gridwidth": 2,
            "linecolor": "white",
            "showbackground": true,
            "ticks": "",
            "zerolinecolor": "white"
           }
          },
          "shapedefaults": {
           "line": {
            "color": "#2a3f5f"
           }
          },
          "ternary": {
           "aaxis": {
            "gridcolor": "white",
            "linecolor": "white",
            "ticks": ""
           },
           "baxis": {
            "gridcolor": "white",
            "linecolor": "white",
            "ticks": ""
           },
           "bgcolor": "#E5ECF6",
           "caxis": {
            "gridcolor": "white",
            "linecolor": "white",
            "ticks": ""
           }
          },
          "title": {
           "x": 0.05
          },
          "xaxis": {
           "automargin": true,
           "gridcolor": "white",
           "linecolor": "white",
           "ticks": "",
           "title": {
            "standoff": 15
           },
           "zerolinecolor": "white",
           "zerolinewidth": 2
          },
          "yaxis": {
           "automargin": true,
           "gridcolor": "white",
           "linecolor": "white",
           "ticks": "",
           "title": {
            "standoff": 15
           },
           "zerolinecolor": "white",
           "zerolinewidth": 2
          }
         }
        },
        "xaxis": {
         "anchor": "y",
         "domain": [
          0,
          1
         ],
         "title": {
          "text": "index"
         }
        },
        "yaxis": {
         "anchor": "x",
         "domain": [
          0,
          1
         ],
         "title": {
          "text": "value"
         }
        }
       }
      }
     },
     "metadata": {},
     "output_type": "display_data"
    }
   ],
   "source": [
    "rpcpc = rpcpc[rpcpc['iso3'] != 'CCK']\n",
    "px.bar(rpcpc['rpc']).show()"
   ]
  },
  {
   "attachments": {},
   "cell_type": "markdown",
   "metadata": {},
   "source": [
    "That's better. But it still isn't particularly suitable for visualization in a\n",
    "choropleth, since the per-country metric to color mapping is linear. Let's fix\n",
    "that."
   ]
  },
  {
   "cell_type": "code",
   "execution_count": 9,
   "metadata": {},
   "outputs": [
    {
     "data": {
      "application/vnd.plotly.v1+json": {
       "config": {
        "plotlyServerURL": "https://plot.ly"
       },
       "data": [
        {
         "alignmentgroup": "True",
         "hovertemplate": "variable=logrpc<br>index=%{x}<br>value=%{y}<extra></extra>",
         "legendgroup": "logrpc",
         "marker": {
          "color": "#636efa",
          "pattern": {
           "shape": ""
          }
         },
         "name": "logrpc",
         "offsetgroup": "logrpc",
         "orientation": "v",
         "showlegend": true,
         "textposition": "auto",
         "type": "bar",
         "x": [
          2,
          3,
          4,
          5,
          6,
          7,
          8,
          9,
          10,
          11,
          12,
          13,
          14,
          15,
          16,
          17,
          18,
          19,
          20,
          21,
          22,
          23,
          24,
          25,
          26,
          27,
          28,
          29,
          30,
          31,
          32,
          33,
          34,
          35,
          36,
          37,
          38,
          39,
          40,
          41,
          42,
          43,
          44,
          45,
          46,
          47,
          48,
          49,
          50,
          51,
          52,
          53,
          54,
          55,
          56,
          57,
          58,
          59,
          60,
          61,
          62,
          63,
          64,
          65,
          66,
          67,
          68,
          69,
          70,
          71,
          72,
          73,
          74,
          75,
          76,
          77,
          78,
          79,
          80,
          81,
          82,
          83,
          84,
          85,
          86,
          87,
          88,
          89,
          90,
          91,
          92,
          93,
          94,
          95,
          96,
          97,
          98,
          99,
          100,
          101,
          102,
          103,
          104,
          105,
          106,
          107,
          108,
          109,
          110,
          111,
          112,
          113,
          114,
          115,
          116,
          117,
          118,
          119,
          120,
          121,
          122,
          123,
          124,
          125,
          126,
          127,
          128,
          129,
          130,
          131,
          132,
          133,
          134,
          135,
          136,
          137,
          138,
          139,
          140,
          141,
          142,
          143,
          144,
          145,
          146,
          147,
          148,
          149,
          150,
          151,
          152,
          153,
          154,
          155,
          156,
          157,
          158,
          159,
          160,
          161,
          162,
          163,
          164,
          165,
          166,
          167,
          168,
          169,
          170,
          171,
          172,
          173,
          174,
          175,
          176,
          177,
          178,
          179,
          180,
          181,
          182,
          183,
          184,
          185,
          186,
          187,
          188,
          189,
          190,
          191,
          192,
          193,
          194,
          195,
          196,
          197,
          198,
          199,
          200,
          201,
          202,
          203,
          204,
          205,
          206,
          207,
          208,
          209,
          210,
          211,
          212,
          213,
          214,
          215,
          216,
          217,
          218,
          219,
          220,
          221,
          222,
          223,
          224,
          225,
          226,
          227,
          228,
          229,
          230,
          231,
          232,
          233,
          234,
          235,
          236,
          237,
          238,
          239,
          240
         ],
         "xaxis": "x",
         "y": [
          -1.3956893541216364,
          -1.4558792454596163,
          -1.552297394081236,
          -1.552822411848243,
          -1.5629678747181677,
          -1.576406688092737,
          -1.6223529097155265,
          -1.655502699368553,
          -1.6831790716183512,
          -1.7050696944680348,
          -1.7287936056315962,
          -1.7318575214234808,
          -1.7332415738671483,
          -1.8239087409443189,
          -1.8479466969782035,
          -1.8710929253709079,
          -1.8722653651871224,
          -1.8872070620398165,
          -1.9788282124512797,
          -1.9874440204556576,
          -1.9908904033567418,
          -1.9981310696450625,
          -2.0282161947551374,
          -2.044675061191029,
          -2.05347317337258,
          -2.0566999498398695,
          -2.057457097039912,
          -2.060577553832443,
          -2.0682938574994916,
          -2.0799013925459104,
          -2.0834407565612554,
          -2.0844248585997294,
          -2.095167184742603,
          -2.117736484426406,
          -2.1182832965899077,
          -2.132058795934174,
          -2.1339097148714483,
          -2.1416867887245794,
          -2.15117411047621,
          -2.153772391268998,
          -2.1675813026957838,
          -2.1772992584989814,
          -2.183305670968761,
          -2.189178927204072,
          -2.1935722567959384,
          -2.2072528940328575,
          -2.229136335044319,
          -2.2424001139882295,
          -2.2425942588007817,
          -2.244237742332973,
          -2.24560876547994,
          -2.251849355758149,
          -2.2673826333747003,
          -2.271909004743054,
          -2.289348199113725,
          -2.3057143061183973,
          -2.3166532729979568,
          -2.3529814361567745,
          -2.3535399961314702,
          -2.367071226825863,
          -2.382316515712388,
          -2.389856733294027,
          -2.393146826183058,
          -2.3969768333217973,
          -2.402089350572097,
          -2.4078589596407296,
          -2.408856423161136,
          -2.4246160780549175,
          -2.432301116570184,
          -2.4415289392174824,
          -2.4458338064943317,
          -2.4541275759913455,
          -2.4673029248783025,
          -2.473164020288431,
          -2.4755942283983177,
          -2.4756722012466175,
          -2.4760534780198014,
          -2.476415080996342,
          -2.4801580075386367,
          -2.4860133268457476,
          -2.491431554514873,
          -2.5036107068437965,
          -2.506068617915845,
          -2.50720052960042,
          -2.5147401908422293,
          -2.51914876003533,
          -2.525258637840449,
          -2.54151090458377,
          -2.5430480652646295,
          -2.5577672390255612,
          -2.558315630419996,
          -2.562550402608699,
          -2.579972823106992,
          -2.5904724175776432,
          -2.595519418160227,
          -2.595761243919718,
          -2.596847781789527,
          -2.5971800232225375,
          -2.6028245035424407,
          -2.605123788511801,
          -2.6127772693882325,
          -2.6358314430306793,
          -2.652401073162047,
          -2.66954931005087,
          -2.6704961992030882,
          -2.6724264142182546,
          -2.673047162905374,
          -2.6744286120481475,
          -2.677087711110712,
          -2.677350348155273,
          -2.6838103337840495,
          -2.6862637720425253,
          -2.6864191782897873,
          -2.6874247067593102,
          -2.6905034484631405,
          -2.692290815372659,
          -2.694168255724322,
          -2.6994040818153375,
          -2.6995716774406477,
          -2.7021757536546462,
          -2.704930767973452,
          -2.711355790650151,
          -2.7160672326168793,
          -2.719556930061342,
          -2.726795260262736,
          -2.7336373922844825,
          -2.734103871586722,
          -2.7512872956686083,
          -2.752143529715475,
          -2.7525976942625277,
          -2.7527384948081592,
          -2.7603016705099086,
          -2.7707892825639693,
          -2.77479971251089,
          -2.788571904238402,
          -2.7942885273728133,
          -2.7963647574710055,
          -2.8044094879862347,
          -2.8072402206184033,
          -2.8150152179515553,
          -2.817514002763504,
          -2.8262527037112037,
          -2.832871809183099,
          -2.8345478576809486,
          -2.8378781288630446,
          -2.8401524761564434,
          -2.842765208181785,
          -2.845426568324352,
          -2.8465441053669753,
          -2.848581568095482,
          -2.854095210838672,
          -2.8573426055892606,
          -2.8672738615549003,
          -2.8743738877126113,
          -2.878213658309165,
          -2.8809069907161926,
          -2.890164187105424,
          -2.8998993687375014,
          -2.9034279411365813,
          -2.9095560292411755,
          -2.912180775649958,
          -2.9257554438100764,
          -2.9323962216691735,
          -2.93603397312016,
          -2.9593625259773053,
          -2.961125203909125,
          -2.975120939823246,
          -2.9876189083346496,
          -2.9972819451393407,
          -3.0062773676174395,
          -3.019746852942342,
          -3.0436678579074186,
          -3.0591546649304067,
          -3.065730472574169,
          -3.067225399924412,
          -3.0707971994588656,
          -3.082965743175505,
          -3.086078569411565,
          -3.0968979555459346,
          -3.1008280454382695,
          -3.112439934079571,
          -3.14674801363064,
          -3.1480107258153747,
          -3.1518366297039733,
          -3.1562740303676295,
          -3.165382558486921,
          -3.191605077580799,
          -3.1988179308767135,
          -3.2036311263305124,
          -3.2211179269739993,
          -3.2303116471813795,
          -3.2324722984755585,
          -3.248407656042466,
          -3.2915908256580013,
          -3.346157302232008,
          -3.3612610797035702,
          -3.383056932475622,
          -3.40107057977381,
          -3.4125155051738116,
          -3.423833356768823,
          -3.428794694567431,
          -3.446018071420432,
          -3.4674803469756177,
          -3.4694597417088393,
          -3.4799282562507488,
          -3.492044484743605,
          -3.514162818848783,
          -3.547638091987055,
          -3.550662128849949,
          -3.568367673951489,
          -3.6530253698075126,
          -3.677120092438089,
          -3.6807037161538423,
          -3.7004921650165543,
          -3.7050261179088055,
          -3.76652106775351,
          -3.793429277092632,
          -3.829586776265164,
          -3.851626853555954,
          -3.8660109970746146,
          -3.9194329294579973,
          -3.9266669596000443,
          -3.9416287632835694,
          -3.9473748311761425,
          -3.9540808922209623,
          -4.004510651411865,
          -4.017478098418526,
          -4.0328914844361865,
          -4.088711811852701,
          -4.244450370515718,
          -4.251979470918551,
          -4.295459174656901,
          -4.312305372654714,
          -4.35495004250866,
          -4.3819271581523385,
          -4.484277860951593,
          -4.595390089672041,
          -5.270766412103232,
          -7.113473893586364
         ],
         "yaxis": "y"
        }
       ],
       "layout": {
        "barmode": "relative",
        "legend": {
         "title": {
          "text": "variable"
         },
         "tracegroupgap": 0
        },
        "margin": {
         "t": 60
        },
        "template": {
         "data": {
          "bar": [
           {
            "error_x": {
             "color": "#2a3f5f"
            },
            "error_y": {
             "color": "#2a3f5f"
            },
            "marker": {
             "line": {
              "color": "#E5ECF6",
              "width": 0.5
             },
             "pattern": {
              "fillmode": "overlay",
              "size": 10,
              "solidity": 0.2
             }
            },
            "type": "bar"
           }
          ],
          "barpolar": [
           {
            "marker": {
             "line": {
              "color": "#E5ECF6",
              "width": 0.5
             },
             "pattern": {
              "fillmode": "overlay",
              "size": 10,
              "solidity": 0.2
             }
            },
            "type": "barpolar"
           }
          ],
          "carpet": [
           {
            "aaxis": {
             "endlinecolor": "#2a3f5f",
             "gridcolor": "white",
             "linecolor": "white",
             "minorgridcolor": "white",
             "startlinecolor": "#2a3f5f"
            },
            "baxis": {
             "endlinecolor": "#2a3f5f",
             "gridcolor": "white",
             "linecolor": "white",
             "minorgridcolor": "white",
             "startlinecolor": "#2a3f5f"
            },
            "type": "carpet"
           }
          ],
          "choropleth": [
           {
            "colorbar": {
             "outlinewidth": 0,
             "ticks": ""
            },
            "type": "choropleth"
           }
          ],
          "contour": [
           {
            "colorbar": {
             "outlinewidth": 0,
             "ticks": ""
            },
            "colorscale": [
             [
              0,
              "#0d0887"
             ],
             [
              0.1111111111111111,
              "#46039f"
             ],
             [
              0.2222222222222222,
              "#7201a8"
             ],
             [
              0.3333333333333333,
              "#9c179e"
             ],
             [
              0.4444444444444444,
              "#bd3786"
             ],
             [
              0.5555555555555556,
              "#d8576b"
             ],
             [
              0.6666666666666666,
              "#ed7953"
             ],
             [
              0.7777777777777778,
              "#fb9f3a"
             ],
             [
              0.8888888888888888,
              "#fdca26"
             ],
             [
              1,
              "#f0f921"
             ]
            ],
            "type": "contour"
           }
          ],
          "contourcarpet": [
           {
            "colorbar": {
             "outlinewidth": 0,
             "ticks": ""
            },
            "type": "contourcarpet"
           }
          ],
          "heatmap": [
           {
            "colorbar": {
             "outlinewidth": 0,
             "ticks": ""
            },
            "colorscale": [
             [
              0,
              "#0d0887"
             ],
             [
              0.1111111111111111,
              "#46039f"
             ],
             [
              0.2222222222222222,
              "#7201a8"
             ],
             [
              0.3333333333333333,
              "#9c179e"
             ],
             [
              0.4444444444444444,
              "#bd3786"
             ],
             [
              0.5555555555555556,
              "#d8576b"
             ],
             [
              0.6666666666666666,
              "#ed7953"
             ],
             [
              0.7777777777777778,
              "#fb9f3a"
             ],
             [
              0.8888888888888888,
              "#fdca26"
             ],
             [
              1,
              "#f0f921"
             ]
            ],
            "type": "heatmap"
           }
          ],
          "heatmapgl": [
           {
            "colorbar": {
             "outlinewidth": 0,
             "ticks": ""
            },
            "colorscale": [
             [
              0,
              "#0d0887"
             ],
             [
              0.1111111111111111,
              "#46039f"
             ],
             [
              0.2222222222222222,
              "#7201a8"
             ],
             [
              0.3333333333333333,
              "#9c179e"
             ],
             [
              0.4444444444444444,
              "#bd3786"
             ],
             [
              0.5555555555555556,
              "#d8576b"
             ],
             [
              0.6666666666666666,
              "#ed7953"
             ],
             [
              0.7777777777777778,
              "#fb9f3a"
             ],
             [
              0.8888888888888888,
              "#fdca26"
             ],
             [
              1,
              "#f0f921"
             ]
            ],
            "type": "heatmapgl"
           }
          ],
          "histogram": [
           {
            "marker": {
             "pattern": {
              "fillmode": "overlay",
              "size": 10,
              "solidity": 0.2
             }
            },
            "type": "histogram"
           }
          ],
          "histogram2d": [
           {
            "colorbar": {
             "outlinewidth": 0,
             "ticks": ""
            },
            "colorscale": [
             [
              0,
              "#0d0887"
             ],
             [
              0.1111111111111111,
              "#46039f"
             ],
             [
              0.2222222222222222,
              "#7201a8"
             ],
             [
              0.3333333333333333,
              "#9c179e"
             ],
             [
              0.4444444444444444,
              "#bd3786"
             ],
             [
              0.5555555555555556,
              "#d8576b"
             ],
             [
              0.6666666666666666,
              "#ed7953"
             ],
             [
              0.7777777777777778,
              "#fb9f3a"
             ],
             [
              0.8888888888888888,
              "#fdca26"
             ],
             [
              1,
              "#f0f921"
             ]
            ],
            "type": "histogram2d"
           }
          ],
          "histogram2dcontour": [
           {
            "colorbar": {
             "outlinewidth": 0,
             "ticks": ""
            },
            "colorscale": [
             [
              0,
              "#0d0887"
             ],
             [
              0.1111111111111111,
              "#46039f"
             ],
             [
              0.2222222222222222,
              "#7201a8"
             ],
             [
              0.3333333333333333,
              "#9c179e"
             ],
             [
              0.4444444444444444,
              "#bd3786"
             ],
             [
              0.5555555555555556,
              "#d8576b"
             ],
             [
              0.6666666666666666,
              "#ed7953"
             ],
             [
              0.7777777777777778,
              "#fb9f3a"
             ],
             [
              0.8888888888888888,
              "#fdca26"
             ],
             [
              1,
              "#f0f921"
             ]
            ],
            "type": "histogram2dcontour"
           }
          ],
          "mesh3d": [
           {
            "colorbar": {
             "outlinewidth": 0,
             "ticks": ""
            },
            "type": "mesh3d"
           }
          ],
          "parcoords": [
           {
            "line": {
             "colorbar": {
              "outlinewidth": 0,
              "ticks": ""
             }
            },
            "type": "parcoords"
           }
          ],
          "pie": [
           {
            "automargin": true,
            "type": "pie"
           }
          ],
          "scatter": [
           {
            "fillpattern": {
             "fillmode": "overlay",
             "size": 10,
             "solidity": 0.2
            },
            "type": "scatter"
           }
          ],
          "scatter3d": [
           {
            "line": {
             "colorbar": {
              "outlinewidth": 0,
              "ticks": ""
             }
            },
            "marker": {
             "colorbar": {
              "outlinewidth": 0,
              "ticks": ""
             }
            },
            "type": "scatter3d"
           }
          ],
          "scattercarpet": [
           {
            "marker": {
             "colorbar": {
              "outlinewidth": 0,
              "ticks": ""
             }
            },
            "type": "scattercarpet"
           }
          ],
          "scattergeo": [
           {
            "marker": {
             "colorbar": {
              "outlinewidth": 0,
              "ticks": ""
             }
            },
            "type": "scattergeo"
           }
          ],
          "scattergl": [
           {
            "marker": {
             "colorbar": {
              "outlinewidth": 0,
              "ticks": ""
             }
            },
            "type": "scattergl"
           }
          ],
          "scattermapbox": [
           {
            "marker": {
             "colorbar": {
              "outlinewidth": 0,
              "ticks": ""
             }
            },
            "type": "scattermapbox"
           }
          ],
          "scatterpolar": [
           {
            "marker": {
             "colorbar": {
              "outlinewidth": 0,
              "ticks": ""
             }
            },
            "type": "scatterpolar"
           }
          ],
          "scatterpolargl": [
           {
            "marker": {
             "colorbar": {
              "outlinewidth": 0,
              "ticks": ""
             }
            },
            "type": "scatterpolargl"
           }
          ],
          "scatterternary": [
           {
            "marker": {
             "colorbar": {
              "outlinewidth": 0,
              "ticks": ""
             }
            },
            "type": "scatterternary"
           }
          ],
          "surface": [
           {
            "colorbar": {
             "outlinewidth": 0,
             "ticks": ""
            },
            "colorscale": [
             [
              0,
              "#0d0887"
             ],
             [
              0.1111111111111111,
              "#46039f"
             ],
             [
              0.2222222222222222,
              "#7201a8"
             ],
             [
              0.3333333333333333,
              "#9c179e"
             ],
             [
              0.4444444444444444,
              "#bd3786"
             ],
             [
              0.5555555555555556,
              "#d8576b"
             ],
             [
              0.6666666666666666,
              "#ed7953"
             ],
             [
              0.7777777777777778,
              "#fb9f3a"
             ],
             [
              0.8888888888888888,
              "#fdca26"
             ],
             [
              1,
              "#f0f921"
             ]
            ],
            "type": "surface"
           }
          ],
          "table": [
           {
            "cells": {
             "fill": {
              "color": "#EBF0F8"
             },
             "line": {
              "color": "white"
             }
            },
            "header": {
             "fill": {
              "color": "#C8D4E3"
             },
             "line": {
              "color": "white"
             }
            },
            "type": "table"
           }
          ]
         },
         "layout": {
          "annotationdefaults": {
           "arrowcolor": "#2a3f5f",
           "arrowhead": 0,
           "arrowwidth": 1
          },
          "autotypenumbers": "strict",
          "coloraxis": {
           "colorbar": {
            "outlinewidth": 0,
            "ticks": ""
           }
          },
          "colorscale": {
           "diverging": [
            [
             0,
             "#8e0152"
            ],
            [
             0.1,
             "#c51b7d"
            ],
            [
             0.2,
             "#de77ae"
            ],
            [
             0.3,
             "#f1b6da"
            ],
            [
             0.4,
             "#fde0ef"
            ],
            [
             0.5,
             "#f7f7f7"
            ],
            [
             0.6,
             "#e6f5d0"
            ],
            [
             0.7,
             "#b8e186"
            ],
            [
             0.8,
             "#7fbc41"
            ],
            [
             0.9,
             "#4d9221"
            ],
            [
             1,
             "#276419"
            ]
           ],
           "sequential": [
            [
             0,
             "#0d0887"
            ],
            [
             0.1111111111111111,
             "#46039f"
            ],
            [
             0.2222222222222222,
             "#7201a8"
            ],
            [
             0.3333333333333333,
             "#9c179e"
            ],
            [
             0.4444444444444444,
             "#bd3786"
            ],
            [
             0.5555555555555556,
             "#d8576b"
            ],
            [
             0.6666666666666666,
             "#ed7953"
            ],
            [
             0.7777777777777778,
             "#fb9f3a"
            ],
            [
             0.8888888888888888,
             "#fdca26"
            ],
            [
             1,
             "#f0f921"
            ]
           ],
           "sequentialminus": [
            [
             0,
             "#0d0887"
            ],
            [
             0.1111111111111111,
             "#46039f"
            ],
            [
             0.2222222222222222,
             "#7201a8"
            ],
            [
             0.3333333333333333,
             "#9c179e"
            ],
            [
             0.4444444444444444,
             "#bd3786"
            ],
            [
             0.5555555555555556,
             "#d8576b"
            ],
            [
             0.6666666666666666,
             "#ed7953"
            ],
            [
             0.7777777777777778,
             "#fb9f3a"
            ],
            [
             0.8888888888888888,
             "#fdca26"
            ],
            [
             1,
             "#f0f921"
            ]
           ]
          },
          "colorway": [
           "#636efa",
           "#EF553B",
           "#00cc96",
           "#ab63fa",
           "#FFA15A",
           "#19d3f3",
           "#FF6692",
           "#B6E880",
           "#FF97FF",
           "#FECB52"
          ],
          "font": {
           "color": "#2a3f5f"
          },
          "geo": {
           "bgcolor": "white",
           "lakecolor": "white",
           "landcolor": "#E5ECF6",
           "showlakes": true,
           "showland": true,
           "subunitcolor": "white"
          },
          "hoverlabel": {
           "align": "left"
          },
          "hovermode": "closest",
          "mapbox": {
           "style": "light"
          },
          "paper_bgcolor": "white",
          "plot_bgcolor": "#E5ECF6",
          "polar": {
           "angularaxis": {
            "gridcolor": "white",
            "linecolor": "white",
            "ticks": ""
           },
           "bgcolor": "#E5ECF6",
           "radialaxis": {
            "gridcolor": "white",
            "linecolor": "white",
            "ticks": ""
           }
          },
          "scene": {
           "xaxis": {
            "backgroundcolor": "#E5ECF6",
            "gridcolor": "white",
            "gridwidth": 2,
            "linecolor": "white",
            "showbackground": true,
            "ticks": "",
            "zerolinecolor": "white"
           },
           "yaxis": {
            "backgroundcolor": "#E5ECF6",
            "gridcolor": "white",
            "gridwidth": 2,
            "linecolor": "white",
            "showbackground": true,
            "ticks": "",
            "zerolinecolor": "white"
           },
           "zaxis": {
            "backgroundcolor": "#E5ECF6",
            "gridcolor": "white",
            "gridwidth": 2,
            "linecolor": "white",
            "showbackground": true,
            "ticks": "",
            "zerolinecolor": "white"
           }
          },
          "shapedefaults": {
           "line": {
            "color": "#2a3f5f"
           }
          },
          "ternary": {
           "aaxis": {
            "gridcolor": "white",
            "linecolor": "white",
            "ticks": ""
           },
           "baxis": {
            "gridcolor": "white",
            "linecolor": "white",
            "ticks": ""
           },
           "bgcolor": "#E5ECF6",
           "caxis": {
            "gridcolor": "white",
            "linecolor": "white",
            "ticks": ""
           }
          },
          "title": {
           "x": 0.05
          },
          "xaxis": {
           "automargin": true,
           "gridcolor": "white",
           "linecolor": "white",
           "ticks": "",
           "title": {
            "standoff": 15
           },
           "zerolinecolor": "white",
           "zerolinewidth": 2
          },
          "yaxis": {
           "automargin": true,
           "gridcolor": "white",
           "linecolor": "white",
           "ticks": "",
           "title": {
            "standoff": 15
           },
           "zerolinecolor": "white",
           "zerolinewidth": 2
          }
         }
        },
        "xaxis": {
         "anchor": "y",
         "domain": [
          0,
          1
         ],
         "title": {
          "text": "index"
         }
        },
        "yaxis": {
         "anchor": "x",
         "domain": [
          0,
          1
         ],
         "title": {
          "text": "value"
         }
        }
       }
      }
     },
     "metadata": {},
     "output_type": "display_data"
    }
   ],
   "source": [
    "rpcpc['logrpc'] = np.log10(rpcpc['rpc'])\n",
    "px.bar(rpcpc['logrpc']).show()"
   ]
  },
  {
   "attachments": {},
   "cell_type": "markdown",
   "metadata": {},
   "source": [
    "### 3.3 Check the Choropleth"
   ]
  },
  {
   "cell_type": "code",
   "execution_count": null,
   "metadata": {},
   "outputs": [],
   "source": [
    "#reports['label'] = reports['rpc'].round(0).astype(int).astype(str) + '/10,000<br>reports'\n",
    "\n",
    "fig = go.Figure(\n",
    "    data=go.Choropleth(\n",
    "        locations=rpcpc['iso3'],\n",
    "        locationmode='ISO-3',\n",
    "        z=rpcpc['logrpc'],\n",
    "        colorscale='plasma_r',\n",
    "        text=rpcpc['label'],\n",
    "        customdata=rpcpc['country'],\n",
    "        hovertemplate='%{text}<extra><b>%{location}</b><br>%{customdata}</extra>',\n",
    "        colorbar=dict(thickness=20, xpad=15, y=0.47, ypad=40),\n",
    "        title='CSAM Reports Per Capita'\n",
    "    ),\n",
    "    layout=dict(\n",
    "        margin={\"r\":0,\"t\":0,\"l\":0,\"b\":0},\n",
    "        geo=dict(\n",
    "           showcountries=True,\n",
    "           showframe=False,\n",
    "           showlakes=False,\n",
    "           lataxis_range=[-60,90],\n",
    "        ),\n",
    "    ),\n",
    ")\n",
    "fig.show()"
   ]
  }
 ],
 "metadata": {
  "kernelspec": {
   "display_name": "glob",
   "language": "python",
   "name": "python3"
  },
  "language_info": {
   "codemirror_mode": {
    "name": "ipython",
    "version": 3
   },
   "file_extension": ".py",
   "mimetype": "text/x-python",
   "name": "python",
   "nbconvert_exporter": "python",
   "pygments_lexer": "ipython3",
   "version": "3.11.1 (main, Dec 25 2022, 18:09:36) [Clang 14.0.0 (clang-1400.0.29.202)]"
  },
  "orig_nbformat": 4,
  "vscode": {
   "interpreter": {
    "hash": "115c4ef7475ee89ec2c4c929e647f1973a1953eb54b4996e3875b455b1adb466"
   }
  }
 },
 "nbformat": 4,
 "nbformat_minor": 2
}
